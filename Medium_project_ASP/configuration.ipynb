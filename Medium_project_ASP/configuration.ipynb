{
 "cells": [
  {
   "cell_type": "markdown",
   "id": "4eb4e160-6eb3-451b-98e5-21e7a1350585",
   "metadata": {},
   "source": [
    "# Project Description\n",
    "\n",
    "The task of this project is to develop an application for product configuration using the ASP system clinguin.\n",
    "\n",
    "## Product configuration\n",
    "\n",
    "The goal of product configuration, as it name says, is to configure a product.\n",
    "In our running example we consider the configuration of a new bike.\n",
    "\n",
    "The input to product configuration contains a description of the possible configurations of a product.\n",
    "This is done in two parts:\n",
    "1. The first part describes the possible components of a product and their attributes.\n",
    "For example, a bike must have a front wheel and a rear wheel of some size, and it may have a bag with some number of pockets.\n",
    "2. The second part describes some constraints over the components.\n",
    "For example, one constraint can be that the size of the wheels of a bike must be the same.\n",
    "\n",
    "The input may also contain a selection of components of the product and some of their attributes.\n",
    "This selection may be complete or incomplete.\n",
    "For example, the input may contain a complete selection of the components of a bike,\n",
    "or just consist of a selection of wheels.\n",
    "\n",
    "The task of product configuration is to\n",
    "find a possible configuration of the product that is consistent with the given selection.\n",
    "If there is no such possible configuration,\n",
    "then the output should explain why there is no possible configuration.\n",
    "\n",
    "## Clinguin\n",
    "\n",
    "Clinguin is an extension of clingo to create interactive User Interfaces (UIs) using ASP.\n",
    "\n",
    "UIs are defined as sets of atoms, which are then rendered by a frontend, and \n",
    "provide continuous interaction with an ASP solver based on user-triggered events.\n",
    "\n",
    "The documentation about clinguin is available here:\n",
    "* https://clinguin.readthedocs.io"
   ]
  },
  {
   "cell_type": "markdown",
   "id": "7d73009f-b103-4121-afa8-dfa6ccfb0f21",
   "metadata": {},
   "source": [
    "# Resources\n",
    "\n",
    "## COOM Language\n",
    "\n",
    "COOM is a language for product configuration. \n",
    "It covers the first part mentioned above: \n",
    "1. The description of the components and their attributes.\n",
    "2. The specification of constraints over them.\n",
    "\n",
    "The documentation of COOM is available at [doc/coom.ipynb](doc/coom.ipynb).\n",
    "\n",
    "A basic bike can be described as follows:"
   ]
  },
  {
   "cell_type": "code",
   "execution_count": 1,
   "id": "02d54017-a24f-421b-a1ba-8a586ae92a36",
   "metadata": {
    "tags": []
   },
   "outputs": [
    {
     "name": "stdout",
     "output_type": "stream",
     "text": [
      "product {\n",
      "\tWheel\tfrontWheel\n",
      "\tWheel\trearWheel\n",
      "}\n",
      "\n",
      "enumeration Wheel {\n",
      "\tW14\n",
      "\tW16\n",
      "\tW18\n",
      "\tW20\n",
      "}\n",
      "\n",
      "behavior {\n",
      "\trequire frontWheel = rearWheel\n",
      "}\n"
     ]
    }
   ],
   "source": [
    "! cat coom/instances/bike-1-basic.coom"
   ]
  },
  {
   "cell_type": "markdown",
   "id": "e1becba3-4aef-4b5f-bcd5-63cc07d8aa33",
   "metadata": {},
   "source": [
    "The specification says that a bike has a `frontWheel` and a `rearWheel`.\n",
    "\n",
    "Both are of type `Wheel` and must have one of these four values: `W14`, `W16`, `W18`, or `W20`. Each value represents a different size.\n",
    "\n",
    "Additionally, the value of the `frontWheel` must be equal to the value of the `rearWheel`, i.e., both wheels should be of the same size.\n",
    "\n",
    "Examples of more complex bikes can be found in the directory `coom/instances`.\n",
    "\n",
    "## From COOM to ASP facts\n",
    "\n",
    "In the directory `coom/parser` you can find a translator from COOM to ASP facts.\n",
    "\n",
    "The documentation about the fact format is available at [doc/fact-format.ipynb](doc/fact-format.ipynb).\n",
    "\n",
    "To run the translator you need to install the library antlr4 for Python.\n",
    "\n"
   ]
  },
  {
   "cell_type": "code",
   "execution_count": null,
   "id": "6a6d652c-adbd-4ea4-abdc-4601a9232227",
   "metadata": {
    "tags": []
   },
   "outputs": [],
   "source": [
    "! pip install antlr4-tools\n",
    "! pip install antlr4-python3-runtime==4.9.3"
   ]
  },
  {
   "cell_type": "markdown",
   "id": "61d3db1d-0740-4a27-bbcc-f6369bbe4812",
   "metadata": {},
   "source": [
    "We translate the previous basic bike as follows:"
   ]
  },
  {
   "cell_type": "code",
   "execution_count": 3,
   "id": "0f96aa51-7419-4ca7-a291-78858f870b4d",
   "metadata": {
    "tags": []
   },
   "outputs": [
    {
     "name": "stdout",
     "output_type": "stream",
     "text": [
      "structure(\"ROOT\").\n",
      "feature(\"ROOT\",\"frontWheel\",\"Wheel\",1,1).\n",
      "feature(\"ROOT\",\"rearWheel\",\"Wheel\",1,1).\n",
      "\n",
      "enumeration(\"Wheel\").\n",
      "option(\"Wheel\", \"W14\").\n",
      "option(\"Wheel\", \"W16\").\n",
      "option(\"Wheel\", \"W18\").\n",
      "option(\"Wheel\", \"W20\").\n",
      "\n",
      "behavior((\"ROOT\",0)).\n",
      "require((\"ROOT\",0),\"frontWheel=rearWheel\").\n",
      "binary(\"ROOT\",\"frontWheel=rearWheel\",\"frontWheel\",\"=\",\"rearWheel\").\n",
      "path(\"frontWheel\",0,\"frontWheel\").\n",
      "path(\"rearWheel\",0,\"rearWheel\").\n"
     ]
    }
   ],
   "source": [
    "! python coom/parser/parse.py coom/instances/bike-1-basic.coom"
   ]
  },
  {
   "cell_type": "markdown",
   "id": "386a5371-45f9-471a-abe4-419aac25b24b",
   "metadata": {},
   "source": [
    "\n",
    "The first facts says that the `ROOT` structure has exactly `1` `frontWheel` of type `Wheel`.\n",
    "> Note:\n",
    "The numbers `1` and `1` represent the minimum and maximum number of front wheels or rear wheels per bike, respectively.\n",
    "For simplicity, in this project, we can consider that those numbers are always `1` and `1`,\n",
    "but *optionally* you can consider also other values.\n",
    "\n",
    "The second group of facts describe the possible values of a `Wheel`, \n",
    "and the third group of facts describe the constraint over the wheels.\n",
    "\n",
    "The translation of some examples can be found in `asp/instances`.\n"
   ]
  },
  {
   "cell_type": "markdown",
   "id": "e70554f6-ae3d-439f-acf6-0a284b5549ab",
   "metadata": {},
   "source": [
    "## Basic ASP Encoding\n",
    "\n",
    "The file `asp/configuration.lp` contains an ASP encoding to solve a very basic configuration problem.\n",
    "\n",
    "The instance for this encoding must be in the fact format described above. \n",
    "\n",
    "In this basic setting, we assume that the instance only uses the constructs of the basic bike example from above."
   ]
  },
  {
   "cell_type": "code",
   "execution_count": 1,
   "id": "ad29e4b7-ace5-4a36-9688-8b992d624811",
   "metadata": {
    "tags": []
   },
   "outputs": [
    {
     "name": "stdout",
     "output_type": "stream",
     "text": [
      "% choose one option V for every feature F of (enumeration) type T\n",
      "{ value(F,V) : option(T,V) } = 1 :- feature(_,F,T,_,_).\n",
      "\n",
      "% it cannot be that the constraint (S,C) requires a binary formula B and B does not hold\n",
      ":- behavior((S,C)), require((S,C),B), not holds_binary(B).\n",
      "\n",
      "% binary formula B of the form Left = Right\n",
      "holds_binary(B) :- binary(_,B,Left,\"=\",Right), value(Left,LV), value(Right,RV), LV = RV.\n",
      "\n",
      "% display value\n",
      "#show value/2.\n"
     ]
    }
   ],
   "source": [
    "! cat asp/configuration.lp"
   ]
  },
  {
   "cell_type": "markdown",
   "id": "f56d8f9c-bd13-4550-9ee6-3baac43ecd7c",
   "metadata": {},
   "source": [
    "We can run the encoding, together with the result of the translation of [coom/instances/bike-1-basic.coom](coom/instances/bike-1-basic.coom) that is available at [asp/instances/bike-1-basic.lp](asp/instances/bike-1-basic.lp)."
   ]
  },
  {
   "cell_type": "code",
   "execution_count": 3,
   "id": "85d557f6-7d87-4a68-b4fe-b4e3d15a768b",
   "metadata": {
    "tags": []
   },
   "outputs": [
    {
     "name": "stdout",
     "output_type": "stream",
     "text": [
      "clingo version 5.5.0\n",
      "Reading from asp/configuration.lp ...\n",
      "Solving...\n",
      "Answer: 1\n",
      "value(\"rearWheel\",\"W18\") value(\"frontWheel\",\"W18\")\n",
      "Answer: 2\n",
      "value(\"rearWheel\",\"W20\") value(\"frontWheel\",\"W20\")\n",
      "Answer: 3\n",
      "value(\"rearWheel\",\"W16\") value(\"frontWheel\",\"W16\")\n",
      "Answer: 4\n",
      "value(\"rearWheel\",\"W14\") value(\"frontWheel\",\"W14\")\n",
      "SATISFIABLE\n",
      "\n",
      "Models       : 4\n",
      "Calls        : 1\n",
      "Time         : 0.002s (Solving: 0.00s 1st Model: 0.00s Unsat: 0.00s)\n",
      "CPU Time     : 0.002s\n"
     ]
    }
   ],
   "source": [
    "! clingo asp/configuration.lp asp/instances/bike-1-basic.lp 0"
   ]
  },
  {
   "cell_type": "markdown",
   "id": "4e2745ae-67a9-473f-9d6e-3848a2a493ad",
   "metadata": {
    "tags": []
   },
   "source": [
    "There are four answers, one for each possible value of the wheels."
   ]
  },
  {
   "cell_type": "markdown",
   "id": "477e4913-3404-4a90-8115-db4b18837477",
   "metadata": {},
   "source": [
    "## Basic Clinguin Encoding\n",
    "\n",
    "The file `asp/ui.lp` contains an ASP encoding to represent a very basic UI for product configuration using clinguin.\n",
    "\n",
    "It has to be combined with an ASP encoding for the configuration problem and a given instance."
   ]
  },
  {
   "cell_type": "code",
   "execution_count": 2,
   "id": "bc1b89d7-c504-46ca-be1c-e1b8ad48850f",
   "metadata": {
    "tags": []
   },
   "outputs": [
    {
     "name": "stdout",
     "output_type": "stream",
     "text": [
      "#const root_name=\"ROOT\".\n",
      "\n",
      "% main window\n",
      "elem(w, window, root).\n",
      "        \n",
      "    % title\n",
      "    elem(menu_bar, menu_bar, w). \n",
      "    attr(menu_bar, title, \"Product configuration\").\n",
      "\n",
      "    % one container per feature\n",
      "    elem(c(F), container, w) :- feature(root_name,F,T,_,_).\n",
      "    attr(c(F), width, \"500\") :- feature(root_name,F,T,_,_).\n",
      "    attr(c(F), class, (\"m-3\";\"p-3\";\"bg-primary\";\"bg-opacity-50\";\"rounded\"))           :- feature(root_name,F,T,_,_).\n",
      "    attr(c(F), class, (\"d-inline-flex\";\"flex-row-reverse\";\"justify-content-between\")) :- feature(root_name,F,T,_,_).\n",
      "\n",
      "        % label\n",
      "        elem(l(F), label, c(F)) :- feature(root_name,F,T,_,_).\n",
      "        attr(l(F), label, F) :- feature(root_name,F,T,_,_).\n",
      "\n",
      "        % dropdown menu\n",
      "        elem(ldd(F), dropdown_menu, c(F)) :- feature(root_name,F,T,_,_).\n",
      "        attr(ldd(F), class, (\"border-dark\";\"bg-primary\";\"bg-opacity-50\")) :- feature(root_name,F,T,_,_).\n",
      "        % select V for F if all answer sets have value V for F\n",
      "        attr(ldd(F), selected, V) :- feature(root_name,F,T,_,_), _all(value(F,V)).\n",
      "\n",
      "            % otherwise allow the selection of V for F if any answer set has value V for V\n",
      "            elem(lddi(F,V), dropdown_menu_item, ldd(F)) :- feature(root_name,F,T,_,_), _any(value(F,V)).\n",
      "            attr(lddi(F,V), label, V) :- feature(root_name,F,T,_,_), _any(value(F,V)).\n",
      "            % if option (F,V) is selected then add the assumption that value(F,T) must hold\n",
      "            when(lddi(F,V), click, call, add_assumption(value(F,V))) :- feature(root_name,F,T,_,_), _any(value(F,V)).\n"
     ]
    }
   ],
   "source": [
    "! cat asp/ui.lp"
   ]
  },
  {
   "cell_type": "markdown",
   "id": "ac0e8e14-9217-45c7-b5b7-25d22e540324",
   "metadata": {},
   "source": [
    "To install and understand clinguin, please read the documentation:\n",
    "* https://clinguin.readthedocs.io"
   ]
  },
  {
   "cell_type": "markdown",
   "id": "e1559967-c508-40fe-b1b0-5c29a424c5b1",
   "metadata": {},
   "source": [
    "Once clinguin is installed, you can run the basic example using this command:\n",
    "```\n",
    "clinguin client-server --domain-files asp/configuration.lp asp/instances/bike-1-basic.lp --ui-files asp/ui.lp\n",
    "```"
   ]
  },
  {
   "cell_type": "markdown",
   "id": "d24c2814-4b8e-4cf0-96f1-c3adb1552b09",
   "metadata": {},
   "source": [
    "This will generate a very basic UI that allows us to select the type of one of the wheels, and after that selection is done it automatically selects the same type for the other.\n",
    "\n",
    "<img src=\"img/bike-1-basic-ui.png\" width=\"600\" align=\"center\">\n"
   ]
  },
  {
   "cell_type": "markdown",
   "id": "90066d21-4958-4733-99df-1298ce1693dd",
   "metadata": {},
   "source": [
    "# Tasks\n",
    "\n",
    "There are 3 tasks in this project:\n",
    "1. Write an ASP encoding in `asp/configuration.lp` to represent the configuration problems of the instances at `asp/instances`. The encoding should also work for other instances that use the same elements of the COOM language.\n",
    "2. Write an ASP encoding in `asp/ui.lp` for clinguin to generate a UI for configuration problems. This should be combined with an ASP encoding in `asp/configuration-clinguin.lp` that should be a small adaptation of `asp/configuration.lp` for clinguin.\n",
    "3. Write some instance (or instances) in COOM to describe a new product configuration problem. The product can be anything that is of interest to you, except bikes. These new instances should make use of all the elements of the COOM language that are used in the given instances.\n",
    "\n",
    "Task 1 can be checked automatically with the script `test.py` and the command:\n",
    "```\n",
    "python asp/test.py -e asp/configuration.lp -i asp/instances -s asp/solutions -t 100\n",
    "```\n",
    "This will check the 3 instances available at `asp/instances`. \n",
    "\n",
    "The directory `asp/instances` contains the translations of the 3 simplest instances from `coom/instances`. \n",
    "The other instance, `bike-4-city.coom`, uses more advanced features of COOM than the others. \n",
    "It is *optional* to extend the encoding to handle that instance and those features.\n",
    "\n",
    "\n",
    "For task 2, the file `configuration-clinguin.lp` contains some hints on the adaptation for clinguin:"
   ]
  },
  {
   "cell_type": "code",
   "execution_count": 3,
   "id": "f62a6a94-c2bf-4d5a-9b9f-55845b4c092e",
   "metadata": {
    "tags": []
   },
   "outputs": [
    {
     "name": "stdout",
     "output_type": "stream",
     "text": [
      "%*\n",
      "\n",
      " This file should be an adaptation to clingo of the file configuration.lp.\n",
      "\n",
      " Among other things, it can add new atoms in the heads of some of the integrity constraints\n",
      " to explain the incorrect choices made by the user.\n",
      "\n",
      " For example, the constraint \n",
      "   :- behavior((S,C)), require((S,C),B), not holds_binary(B).\n",
      " can become\n",
      "   error((S,C),B) :- behavior((S,C)), require((S,C),B), not holds_binary(B).\n",
      " and the program ui.lp can refer to those error/2 atoms.\n",
      "\n",
      "*% \n"
     ]
    }
   ],
   "source": [
    "! cat asp/configuration-clinguin.lp"
   ]
  },
  {
   "cell_type": "markdown",
   "id": "de5a06ff-1c0a-4efb-b9bb-ad95386050b3",
   "metadata": {},
   "source": [
    "*Optionally*, to provide explanations, you can use the `ExplanationBackend` of clinguin, that does not require any modification of the configuration encoding. Click [here](https://github.com/potassco/clinguin/tree/master/examples/angular/sudoku_advanced) to see an example of its usage.\n",
    "\n",
    "Tasks 2 and 3 should be run using a command of this form:\n",
    "```\n",
    "clinguin client-server --domain-files asp/configuration-clinguin.lp asp/instances/new-1.lp --ui-files asp/ui.lp\n",
    "```\n",
    "where `asp/instances/new-1.lp` should be the translation of some new COOM instance to ASP facts.\n",
    "\n",
    "The UI should have at least two versions or options:\n",
    "* In the first one, the user can only select those elements that are consistent with the previous selections.\n",
    "* In the second one, the user can make any selection, and if they make a selection that is inconsistent with the previous selections,\n",
    "  then the UI should provide an explanation for the inconsistency, \n",
    "  i.e., it should tell the user which constraints where violated by the selection.\n",
    "  \n",
    "As an *optional* extension of the project, the UI may allow the user to specify some preferences over the configurations."
   ]
  },
  {
   "cell_type": "markdown",
   "id": "9498da11-5b10-40ab-b282-b8ccc6b94c25",
   "metadata": {},
   "source": [
    "# Framework for Task 1\n",
    "\n",
    "The directory ``asp`` contains the files that you need for this task. In the directory ``asp/instances`` you can find the instances (our example is ``bike-1-basic.lp``) and in the directory ``asp/solutions`` you can find their solutions in ``json`` format. \n",
    "\n",
    "For this task you have to submit a file named ``configuration.lp``, included as a template in the directory ``asp``, that contains the following lines (and no more ``#show`` statements) so that in the output only occur the atoms of predicate ``value/2``:\n",
    "\n",
    "```\n",
    "#show value/2.\n",
    "```\n",
    "\n",
    "To run your encoding with our example, you can use this command:\n",
    "* ``clingo asp/configuration.lp asp/instances/bike-1-basic.lp``\n",
    "\n",
    "You can check if your encoding solves correctly all instances by running the ``Python`` script ``test.py`` as follows:\n",
    "* ``python asp/test.py -e asp/configuration.lp -i asp/instances -s asp/solutions -t 100``\n",
    "\n",
    "In this case, the timeout for each instance is set to `100` seconds, but you can use any other value instead.\n",
    "\n",
    "For help, type `python asp/test.py --help`.\n",
    "\n",
    "We recommend you to work locally in your computer, using your own installation of ``clingo``.\n",
    "\n",
    "For this, you can run the next cell to generate a zip file of this directory. The zip file will be stored in the parent directory with the name `configuration.zip`. You can click on the folder symbol at the left of the screen to look for it and download it."
   ]
  },
  {
   "cell_type": "code",
   "execution_count": null,
   "id": "fd0eadea-1cc2-479f-97e0-c354fc042339",
   "metadata": {
    "tags": []
   },
   "outputs": [],
   "source": [
    "import os\n",
    "from shutil import make_archive\n",
    "make_archive('../configuration', 'zip', os.getcwd())"
   ]
  },
  {
   "cell_type": "markdown",
   "id": "f036798d-c595-46e6-8ebc-5b46581cd396",
   "metadata": {},
   "source": [
    "You can also run your encoding in the next cell. It is not recommended to work in this notebook at ``Binder``, but if you do it, remember to download the files that you modify to your computer, otherwise you will lose your changes."
   ]
  },
  {
   "cell_type": "code",
   "execution_count": null,
   "id": "8b8a275e-8fba-4d5d-a1ba-59d5b986a2d6",
   "metadata": {
    "tags": []
   },
   "outputs": [],
   "source": [
    "%%clingo 0 asp/instances/bike-2-extended.lp -\n",
    "\n",
    "% Modify this encoding please...\n",
    "\n",
    "% choose one option V for every feature F of (enumeration) type T\n",
    "{ value(F,V) : option(T,V) } = 1 :- feature(_,F,T,_,_).\n",
    "\n",
    "% it cannot be that the constraint (S,C) requires a binary formula B and B does not hold\n",
    ":- behavior((S,C)), require((S,C),B), not holds_binary(B).\n",
    "\n",
    "% binary formula B of the form Left = Right\n",
    "holds_binary(B) :- binary(_,B,Left,\"=\",Right), value(Left,LV), value(Right,RV), LV = RV.\n",
    "\n",
    "% display value\n",
    "#show value/2."
   ]
  },
  {
   "cell_type": "markdown",
   "id": "b8b9fc6e-bec1-48e6-a830-40d01126d1b4",
   "metadata": {},
   "source": [
    "# Formalities\n",
    "You can work on the solution alone or in groups of two people. \n",
    "Different groups have to submit different solutions, in case\n",
    "of plagiarism all groups involved will fail the project. \n",
    "\n",
    "Your solution should represent correctly all solutions for every instance.\n",
    "In this project, the instances are small and should be solved fast. \n",
    "Hence, they all should be solved within the time limit.\n",
    "This is tested automatically by the script ``test.py``. \n",
    "\n",
    "You will have to present your UI in class. \n",
    "We will send you further instructions about this from Moodle."
   ]
  },
  {
   "cell_type": "markdown",
   "id": "301cb1b3-5b25-418c-8bf4-286f5d9767ea",
   "metadata": {},
   "source": [
    "# Tips\n",
    " \n",
    "* If you are stuck you can contact us. We will do out best to answer all your questions. You can send us questions and remarks either via Moodle or by email.\n",
    "\n",
    "* Start as soon as possible to avoid running out of time. However, if you still realize that you have problems making it before the deadline, please contact us instead of copying another solution."
   ]
  }
 ],
 "metadata": {
  "kernelspec": {
   "display_name": "Python 3 (ipykernel)",
   "language": "python",
   "name": "python3"
  },
  "language_info": {
   "codemirror_mode": {
    "name": "ipython",
    "version": 3
   },
   "file_extension": ".py",
   "mimetype": "text/x-python",
   "name": "python",
   "nbconvert_exporter": "python",
   "pygments_lexer": "ipython3",
   "version": "3.12.1"
  }
 },
 "nbformat": 4,
 "nbformat_minor": 5
}
